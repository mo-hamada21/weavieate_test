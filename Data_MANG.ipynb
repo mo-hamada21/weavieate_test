{
  "cells": [
    {
      "cell_type": "code",
      "execution_count": 1,
      "metadata": {
        "id": "mpSgN12YJqwk"
      },
      "outputs": [],
      "source": [
        "import weaviate\n",
        "import uuid\n",
        "import weaviate.classes.config as wvcc\n",
        "\n",
        "import requests\n",
        "import json\n",
        "\n",
        "# making embedding\n",
        "from langchain_huggingface import HuggingFaceEmbeddings\n",
        "\n",
        "from weaviate.classes.config import (\n",
        "    Property,\n",
        "    DataType,\n",
        "    Tokenization,\n",
        "    Configure,\n",
        "    VectorDistances\n",
        ")"
      ]
    },
    {
      "cell_type": "markdown",
      "metadata": {
        "id": "FQWVVZjOKiy5"
      },
      "source": [
        "# Cloud Connection"
      ]
    },
    {
      "cell_type": "code",
      "execution_count": 2,
      "metadata": {
        "colab": {
          "base_uri": "https://localhost:8080/"
        },
        "id": "SZEHy91xJviF",
        "outputId": "4d444c1d-6245-4bc6-f58c-95f319e53e2e"
      },
      "outputs": [
        {
          "output_type": "stream",
          "name": "stdout",
          "text": [
            "Weaviate client is ready.\n"
          ]
        }
      ],
      "source": [
        "#define a client\n",
        "client = weaviate.connect_to_wcs(\n",
        "    cluster_url=\"https://ep9buqisqh2agxcqhaqja.c0.us-central1.gcp.weaviate.cloud\",\n",
        "    auth_credentials=weaviate.classes.init.Auth.api_key(\"cBbDQMWkOgPEzzQYg2megPVbhrZ28P6mH33k\"),\n",
        ")\n",
        "\n",
        "#checking client status\n",
        "def check_client(client):\n",
        "    try:\n",
        "        # check client is ready or not\n",
        "        response = client.is_ready()\n",
        "        if response:\n",
        "            print(\"Weaviate client is ready.\")\n",
        "        else:\n",
        "            print(\"Weaviate client is not ready.\")\n",
        "    except Exception as e:\n",
        "        print(f\"Error checking Weaviate client status: {e}\")\n",
        "\n",
        "\n",
        "check_client(client)"
      ]
    },
    {
      "cell_type": "markdown",
      "metadata": {
        "id": "YPy8uUl5Kxa4"
      },
      "source": [
        "# preparee the data and Add Embeddings"
      ]
    },
    {
      "cell_type": "markdown",
      "metadata": {
        "id": "rZ-a0TdEK01-"
      },
      "source": [
        "## Extract data into a list"
      ]
    },
    {
      "cell_type": "code",
      "source": [
        "# Slice the data\n",
        "data_list = []\n",
        "\n",
        "def stream_and_slice_json(file_path, fraction=0.25):\n",
        "\n",
        "    total_items = 0\n",
        "    collected_items = 0\n",
        "\n",
        "    with open(file_path, 'r') as file:\n",
        "        for line in file:\n",
        "            try:\n",
        "                json_obj = json.loads(line)\n",
        "                data_list.append(json_obj)\n",
        "                collected_items += 1\n",
        "                total_items += 1\n",
        "\n",
        "                # Check if we've collected the desired fraction of the total items\n",
        "                if collected_items >= total_items * fraction:\n",
        "                    break\n",
        "            except json.JSONDecodeError:\n",
        "                print(\"Error decoding JSON in line:\", line)\n",
        "\n",
        "    return data_list"
      ],
      "metadata": {
        "id": "oKlUT3WRceAo"
      },
      "execution_count": 7,
      "outputs": []
    },
    {
      "cell_type": "code",
      "source": [
        "stream_and_slice_json('News_Category_Dataset_v3.json')"
      ],
      "metadata": {
        "colab": {
          "base_uri": "https://localhost:8080/"
        },
        "id": "czrYaXRddHzh",
        "outputId": "f7288bf9-1469-4205-db1c-eff90ccae587"
      },
      "execution_count": 8,
      "outputs": [
        {
          "output_type": "execute_result",
          "data": {
            "text/plain": [
              "[{'link': 'https://www.huffpost.com/entry/covid-boosters-uptake-us_n_632d719ee4b087fae6feaac9',\n",
              "  'headline': 'Over 4 Million Americans Roll Up Sleeves For Omicron-Targeted COVID Boosters',\n",
              "  'category': 'U.S. NEWS',\n",
              "  'short_description': 'Health experts said it is too early to predict whether demand would match up with the 171 million doses of the new boosters the U.S. ordered for the fall.',\n",
              "  'authors': 'Carla K. Johnson, AP',\n",
              "  'date': '2022-09-23'}]"
            ]
          },
          "metadata": {},
          "execution_count": 8
        }
      ]
    },
    {
      "cell_type": "code",
      "execution_count": 9,
      "metadata": {
        "colab": {
          "base_uri": "https://localhost:8080/"
        },
        "id": "4odpwSAaK9nu",
        "outputId": "436ffd6a-36b8-4730-989f-ec163da4c447"
      },
      "outputs": [
        {
          "output_type": "execute_result",
          "data": {
            "text/plain": [
              "{'link': 'https://www.huffpost.com/entry/covid-boosters-uptake-us_n_632d719ee4b087fae6feaac9',\n",
              " 'headline': 'Over 4 Million Americans Roll Up Sleeves For Omicron-Targeted COVID Boosters',\n",
              " 'category': 'U.S. NEWS',\n",
              " 'short_description': 'Health experts said it is too early to predict whether demand would match up with the 171 million doses of the new boosters the U.S. ordered for the fall.',\n",
              " 'authors': 'Carla K. Johnson, AP',\n",
              " 'date': '2022-09-23'}"
            ]
          },
          "metadata": {},
          "execution_count": 9
        }
      ],
      "source": [
        "data_list[0]"
      ]
    },
    {
      "cell_type": "markdown",
      "metadata": {
        "id": "18QbBUZOLAiv"
      },
      "source": [
        "## combine props for embedding"
      ]
    },
    {
      "cell_type": "code",
      "execution_count": 10,
      "metadata": {
        "colab": {
          "base_uri": "https://localhost:8080/"
        },
        "id": "dfNv2j__K20K",
        "outputId": "639a57c3-1fc0-4610-b148-6674da894feb"
      },
      "outputs": [
        {
          "output_type": "stream",
          "name": "stderr",
          "text": [
            "/usr/local/lib/python3.10/dist-packages/sentence_transformers/cross_encoder/CrossEncoder.py:11: TqdmExperimentalWarning: Using `tqdm.autonotebook.tqdm` in notebook mode. Use `tqdm.tqdm` instead to force console mode (e.g. in jupyter console)\n",
            "  from tqdm.autonotebook import tqdm, trange\n",
            "/usr/local/lib/python3.10/dist-packages/huggingface_hub/utils/_token.py:89: UserWarning: \n",
            "The secret `HF_TOKEN` does not exist in your Colab secrets.\n",
            "To authenticate with the Hugging Face Hub, create a token in your settings tab (https://huggingface.co/settings/tokens), set it as secret in your Google Colab and restart your session.\n",
            "You will be able to reuse this secret in all of your notebooks.\n",
            "Please note that authentication is recommended but still optional to access public models or datasets.\n",
            "  warnings.warn(\n"
          ]
        }
      ],
      "source": [
        "#define embedding model\n",
        "from langchain_huggingface import HuggingFaceEmbeddings\n",
        "# Load the HuggingFace model for creating embeddings\n",
        "embedding_model = HuggingFaceEmbeddings(model_name=\"sentence-transformers/all-MiniLM-L6-v2\")"
      ]
    },
    {
      "cell_type": "code",
      "execution_count": 11,
      "metadata": {
        "id": "KmuqFIJeLEeu"
      },
      "outputs": [],
      "source": [
        "# generation of embeddings\n",
        "def generate_embeddings(text):\n",
        "    embeddings = embedding_model.embed_documents([text])\n",
        "\n",
        "    # Assuming embeddings is a list of lists (one list per document)\n",
        "    if embeddings and isinstance(embeddings[0], list):\n",
        "        return embeddings[0]  # Return the first (and only) list of embeddings\n",
        "\n",
        "\n",
        "# Combine the properties\n",
        "def combine_properties(item):\n",
        "    # Extract properties\n",
        "    headline = item.get('headline', '')\n",
        "    category = item.get('category', '')\n",
        "    short_description = item.get('short_description', '')\n",
        "\n",
        "    # Combine properties into a single text string\n",
        "    combined_text = f\"{headline} {category} {short_description}\"\n",
        "    return combined_text\n",
        "\n",
        "\n",
        "# Generate IDs\n",
        "def generate_unique_id():\n",
        "    return str(uuid.uuid4())\n"
      ]
    },
    {
      "cell_type": "code",
      "source": [
        "def prepare_data_for_insertion(data_list):\n",
        "    \"\"\"\n",
        "    Prepare data for insertion by generating unique IDs, combining properties, and creating embeddings.\n",
        "\n",
        "    Args:\n",
        "        data_list (list): List of dictionaries containing item properties.\n",
        "\n",
        "    Returns:\n",
        "        list: List of dictionaries ready for insertion.\n",
        "    \"\"\"\n",
        "    prepared_data = []\n",
        "    for item in data_list:\n",
        "        # Generate the id for each item\n",
        "        item_id = generate_unique_id()\n",
        "\n",
        "        # Combine the properties\n",
        "        combined_text = combine_properties(item)\n",
        "\n",
        "        # Create Embeddings\n",
        "        embeddings = generate_embeddings(combined_text)\n",
        "\n",
        "        # Prepare the item for insertion\n",
        "        prepared_item = {\n",
        "            'id': item_id,  # ID property\n",
        "            'headline': item.get('headline', ''),\n",
        "            'category': item.get('category', ''),\n",
        "            'short_description': item.get('short_description', ''),\n",
        "            'embeddings': embeddings,  # Embeddings property\n",
        "            'meta_data': item.get('meta_data', '')  # Optional additional property\n",
        "        }\n",
        "        prepared_data.append(prepared_item)\n",
        "\n",
        "    return prepared_data\n"
      ],
      "metadata": {
        "id": "ydTP-oSNJumt"
      },
      "execution_count": 115,
      "outputs": []
    },
    {
      "cell_type": "code",
      "source": [
        "# prepared_data = prepare_data_for_insertion(data_list)\n",
        "\n",
        "# # Print only the first 5 items from prepared_data\n",
        "# for item in prepared_data[:5]:  # Slice the list to get the first 5 items\n",
        "#     print(f\"ID: {item['id']}\")\n",
        "#     print(f\"Headline: {item['headline']}\")\n",
        "#     print(f\"Category: {item['category']}\")\n",
        "#     print(f\"Short Description: {item['short_description']}\")\n",
        "#     print(f\"Embeddings: {item['embeddings']}\")\n",
        "#     print(\"\\n\")"
      ],
      "metadata": {
        "colab": {
          "base_uri": "https://localhost:8080/"
        },
        "id": "ba3X4xWpNLsT",
        "outputId": "007a9849-eaae-407b-8c28-458e32d2f0bd"
      },
      "execution_count": 112,
      "outputs": [
        {
          "output_type": "stream",
          "name": "stdout",
          "text": [
            "ID: fef0b163-cf11-43b4-8c1f-e6ae84227bb8\n",
            "Headline: Over 4 Million Americans Roll Up Sleeves For Omicron-Targeted COVID Boosters\n",
            "Category: U.S. NEWS\n",
            "Short Description: Health experts said it is too early to predict whether demand would match up with the 171 million doses of the new boosters the U.S. ordered for the fall.\n",
            "Embeddings: [-0.020388882607221603, 0.03906365856528282, -0.04621047526597977, -0.008600885979831219, 0.03425996005535126, -0.042044125497341156, -0.012011573649942875, 0.10828500986099243, -0.022965937852859497, -0.017370129004120827, -0.037982843816280365, 0.05700824782252312, -0.0011722625931724906, 0.03296976536512375, 0.061620406806468964, 0.030108142644166946, 0.05930912867188454, -0.05908643454313278, 0.012857522815465927, 0.01886061578989029, -0.054279446601867676, -0.0192625280469656, 0.03139610216021538, 0.025165023282170296, -0.03422611206769943, -0.034655552357435226, -0.0898100957274437, -0.03096819296479225, 0.011081336066126823, -0.02853260189294815, -0.014206510037183762, -0.01825292780995369, -0.005642605479806662, 0.0360555537045002, -0.02454950660467148, -0.05596953257918358, -0.0016859237803146243, -0.03567637875676155, -0.05003388971090317, 0.057658206671476364, 0.09403548389673233, -0.040385741740465164, -0.040136732161045074, 0.046219803392887115, 0.035028427839279175, -0.005056748166680336, -0.05265610292553902, 0.08748291432857513, -0.006663935724645853, 0.05381885543465614, 0.011246743611991405, -0.0037772066425532103, 0.04429657384753227, -0.01760587841272354, -0.040548380464315414, -0.04150579497218132, -0.024826662614941597, -0.08860121667385101, 0.021979963406920433, 0.06861960142850876, -0.06749632209539413, -0.0479603037238121, -0.018139783293008804, 0.014179812744259834, 0.009055464528501034, -0.011689392849802971, 0.008378511294722557, -0.020474020391702652, 0.012687568552792072, 0.06788790225982666, 0.029426831752061844, 0.02063758857548237, 0.010237467475235462, 0.11555439978837967, 0.016956105828285217, 0.08045004308223724, 0.04530314728617668, 0.025777680799365044, 0.07083913683891296, 0.002579701831564307, 0.011750930920243263, -0.06386986374855042, 0.0017405805410817266, -0.038364227861166, 0.026207691058516502, 0.029493611305952072, -0.03365393355488777, 0.05123293027281761, -0.008706100285053253, -0.009165223687887192, 0.02159101329743862, -0.04873255267739296, 0.07981334626674652, 0.08242859691381454, -0.08081656694412231, 0.0962216854095459, -0.00011992348299827427, -0.027829943224787712, -0.08206803351640701, 0.04663168638944626, -0.0022824080660939217, -0.021961068734526634, 0.02071176841855049, 0.07579153776168823, -0.09519710391759872, -0.08179100602865219, -0.026495473459362984, 0.04300277680158615, -0.053636860102415085, 0.002639220794662833, 0.023978842422366142, 0.013235301710665226, 0.012218871153891087, -0.04099710285663605, -0.12257247418165207, 0.004297115374356508, 0.015068952925503254, -0.05963017791509628, 0.008038411848247051, -0.019435342401266098, 0.007116594817489386, 0.015571767464280128, 0.02373548597097397, 0.005562865640968084, -0.03029339574277401, -0.00508123217150569, -0.029307151213288307, 1.8045379284747644e-33, 0.032460905611515045, -0.0076568652875721455, 0.06770522892475128, 0.0304692555218935, -0.10946901142597198, -0.018799101933836937, 0.01282401755452156, -0.018276063725352287, 0.052727509289979935, -0.05277734249830246, -0.09285882860422134, 0.03127969056367874, 0.0069022588431835175, 0.16929195821285248, 0.0035443382803350687, -0.09228822588920593, 0.04356604442000389, 0.09495970606803894, -0.005812684539705515, 0.024624420329928398, 0.03857303783297539, -0.06352334469556808, -0.016231132671236992, 0.03255539387464523, -0.06166685000061989, 0.08048252761363983, -0.09669005125761032, 0.04058972746133804, -0.01290977280586958, 0.028987757861614227, -0.005666238721460104, -0.0056317527778446674, 0.03075612522661686, -0.05289717763662338, -0.01517813466489315, 0.02662399411201477, -0.031064918264746666, -0.04796276614069939, 0.009728207252919674, -0.0023474267218261957, 0.015834171324968338, 0.11821950227022171, 0.009662169963121414, -0.013257382437586784, 0.021592097356915474, 0.007917036302387714, 0.020911507308483124, -0.05556997284293175, -0.1063879206776619, -0.03168916702270508, -0.07529643923044205, 0.06937956064939499, -0.11064504086971283, 0.0507601723074913, -0.020841112360358238, 0.011844808235764503, 0.009586403146386147, -0.054375503212213516, 0.14535465836524963, -0.02219347283244133, 0.0008104855078272521, -0.01021309569478035, -0.016751017421483994, 0.0369613878428936, -0.054714303463697433, 0.07650823891162872, 0.06749057024717331, 0.005266191437840462, -0.136991485953331, 0.10100648552179337, 0.1314682960510254, -0.037731047719717026, -0.08365903794765472, -0.031356800347566605, 0.014041437767446041, 0.038315169513225555, 0.05816543102264404, 0.04219859465956688, 0.09960491210222244, -0.05777455493807793, 0.009253405965864658, -0.01892761141061783, 0.03705758973956108, 0.0038037800695747137, 0.09217674285173416, 0.06316041946411133, -0.03039107471704483, -0.013579163700342178, -0.043712466955184937, 0.015511629171669483, -0.03386804834008217, 0.012652388773858547, 0.04043314978480339, 0.004665846470743418, -0.019685976207256317, -3.10445670329266e-33, -0.03979245200753212, 0.025657426565885544, 0.051892876625061035, -0.021061841398477554, 0.053812138736248016, 0.03858917951583862, -0.005627133417874575, 0.004500209353864193, 0.002960915444418788, 0.0685538724064827, 0.03001902997493744, 0.045225631445646286, 0.008140936493873596, 0.04296831414103508, 0.0027538512367755175, -0.010004655458033085, 0.00667948042973876, 0.03745666891336441, 0.022647371515631676, -0.012036722153425217, -0.0019911369308829308, -0.022922437638044357, -0.03381378576159477, 0.04462681710720062, 0.011876926757395267, -0.006929201073944569, 0.05146454647183418, -0.03318129852414131, 0.014491409063339233, -0.06384877860546112, -0.05807755887508392, -0.039554424583911896, -0.04125814512372017, 0.09217339009046555, 0.03133538365364075, 0.04656677320599556, 0.08990251272916794, 0.07445778697729111, -0.014628231525421143, -0.08087509125471115, -0.01888882741332054, -0.016875555738806725, -0.05726946145296097, -0.036357998847961426, -0.04377617686986923, 0.01295334193855524, -0.011501387692987919, 0.047354117035865784, 0.03951000049710274, 0.04443097114562988, -0.0794001892209053, 0.04437834769487381, -0.013277359306812286, 0.034905288368463516, -0.11015123873949051, -0.005360864102840424, 0.007554240524768829, -0.019999781623482704, -0.00699930265545845, -0.06001130864024162, -0.023745005950331688, 0.015620730817317963, -0.07053347676992416, -0.09780925512313843, 0.02773123048245907, -0.03814670071005821, 0.014438229613006115, 0.004905781242996454, -0.1008371114730835, -0.04259488731622696, -0.02698882482945919, -0.07752341032028198, -0.07528680562973022, -0.0935140997171402, -0.08508861809968948, 0.014251667074859142, 0.008958871476352215, -0.045537762343883514, 0.08211071789264679, 0.002730300184339285, -0.06308950483798981, -0.09591317176818848, -0.00637666555121541, -0.02891339361667633, 0.006324375979602337, 0.0471588671207428, 0.0798947885632515, -0.05748516693711281, -0.01487671211361885, 0.1029461994767189, -0.08353494852781296, 0.001386546646244824, -0.039900947362184525, -0.003614781890064478, -0.02405780740082264, -3.7973649114064756e-08, 0.07486569136381149, 0.0033434806391596794, 0.00043706176802515984, 0.0685904249548912, -0.047648534178733826, -0.02032732591032982, -0.11163446307182312, 0.05532585456967354, 0.04660506919026375, -0.00872123334556818, 0.10536424070596695, 0.05538889765739441, 0.01611846312880516, -0.009030792862176895, -0.03870261088013649, -0.014170258305966854, -0.058760929852724075, 0.03514600172638893, -0.034087177366018295, -0.02420860156416893, -0.03859925642609596, 0.08498786389827728, 0.13138267397880554, -0.02847542241215706, 0.01342204213142395, 0.03979549929499626, -0.004771451000124216, 0.033277370035648346, 0.018281364813447, -0.0315355621278286, -0.044580232352018356, -0.021825267001986504, -0.05224420875310898, -0.007290306035429239, 0.07686237245798111, -0.02607651613652706, -0.010107690468430519, -0.03899971768260002, 0.05327869951725006, 0.029782714322209358, 0.017503902316093445, -0.12043198943138123, 0.026075996458530426, 0.08467711508274078, -0.010898023843765259, 0.016758760437369347, -0.13551901280879974, 0.002098513301461935, -0.04577711224555969, -0.07903029024600983, -0.0019983435049653053, -0.04157844930887222, 0.010381916537880898, 0.007276997901499271, -0.021561050787568092, -0.02372504584491253, -0.031999729573726654, -0.07386884093284607, 0.017816981300711632, 0.022835154086351395, 0.10174566507339478, -0.12762673199176788, 0.04140457883477211, 0.0909465104341507]\n",
            "\n",
            "\n"
          ]
        }
      ]
    },
    {
      "cell_type": "markdown",
      "source": [
        "# Data Insertion"
      ],
      "metadata": {
        "id": "CEJhQMQUOYj6"
      }
    },
    {
      "cell_type": "markdown",
      "source": [
        "## **Create the collection and insert the data**"
      ],
      "metadata": {
        "id": "mRu_tU-MO300"
      }
    },
    {
      "cell_type": "code",
      "execution_count": 109,
      "metadata": {
        "id": "NI9ODps6KqJW"
      },
      "outputs": [],
      "source": [
        "\n",
        "client.collections.delete(\"External_data_coll\")\n",
        "\n",
        "\n",
        "\n",
        "def define_collection(client, collection_name=\"External_data_coll\"):\n",
        "    try:\n",
        "        # Reconnect the client\n",
        "        client.connect()\n",
        "\n",
        "        # Check if collection exists\n",
        "        if client.collections.exists(collection_name):\n",
        "            return 'Collection already exists.'\n",
        "\n",
        "        # Define the collection\n",
        "        client.collections.create(\n",
        "            collection_name,  # Define the collection name\n",
        "            vectorizer_config=Configure.Vectorizer.text2vec_huggingface(\n",
        "                model=\"sentence-transformers/all-MiniLM-L6-v2\", vectorize_collection_name=True\n",
        "            ),  # Use HuggingFace model for vectorization\n",
        "\n",
        "            vector_index_config=Configure.VectorIndex.hnsw(\n",
        "                distance_metric=VectorDistances.COSINE\n",
        "            ),\n",
        "\n",
        "            # Define properties excluding 'id' and 'embeddings'\n",
        "            properties=[\n",
        "                Property(\n",
        "                    name=\"headline\",\n",
        "                    data_type=DataType.TEXT,  # Use DataType.TEXT instead of STRING\n",
        "                    vectorize_property_name=True,\n",
        "                    tokenization=Tokenization.LOWERCASE\n",
        "                ),\n",
        "                Property(\n",
        "                    name=\"category\",\n",
        "                    data_type=DataType.TEXT,  # Use DataType.TEXT instead of STRING\n",
        "                    vectorize_property_name=True,\n",
        "                    tokenization=Tokenization.LOWERCASE\n",
        "                ),\n",
        "                Property(\n",
        "                    name=\"short_description\",\n",
        "                    data_type=DataType.TEXT,  # Use DataType.TEXT\n",
        "                    vectorize_property_name=True,\n",
        "                    tokenization=Tokenization.LOWERCASE\n",
        "                ),\n",
        "                Property(\n",
        "                    name=\"meta_data\",\n",
        "                    data_type=DataType.TEXT,\n",
        "                    vectorize_property_name=False\n",
        "                ),\n",
        "            ]\n",
        "        )\n",
        "\n",
        "        return \"Collection created successfully\"\n",
        "\n",
        "    except Exception as e:\n",
        "        return f\"An error occurred: {str(e)}\"\n"
      ]
    },
    {
      "cell_type": "code",
      "source": [
        "# Define the collection\n",
        "result = define_collection(client)\n",
        "print(result)"
      ],
      "metadata": {
        "colab": {
          "base_uri": "https://localhost:8080/"
        },
        "id": "ZFRv4iM6Onhr",
        "outputId": "4a2846a5-f253-4160-871e-6cdb63e11e97"
      },
      "execution_count": 110,
      "outputs": [
        {
          "output_type": "stream",
          "name": "stdout",
          "text": [
            "Collection created successfully\n"
          ]
        }
      ]
    },
    {
      "cell_type": "code",
      "source": [
        "def insert_data_batch(client, collection_name, data_list):\n",
        "    # Prepare the data for insertion\n",
        "    prepared_data = prepare_data_for_insertion(data_list)\n",
        "\n",
        "    try:\n",
        "        # Access the collection\n",
        "        collection = client.collections.get(collection_name)\n",
        "\n",
        "        # Use batch operations for insertion\n",
        "        with collection.batch.dynamic() as batch:\n",
        "            # Add documents to the batch\n",
        "            for item in prepared_data:\n",
        "                # Document including properties\n",
        "                document = {\n",
        "                    'id': item['id'],  # ID\n",
        "                    'embeddings': item['embeddings'],  # Embeddings\n",
        "                    'properties': {\n",
        "                        'headline': item['headline'],\n",
        "                        'category': item['category'],\n",
        "                        'short_description': item['short_description'],\n",
        "                        'meta_data': item['meta_data']\n",
        "                    }\n",
        "                }\n",
        "                # Insert document\n",
        "                batch.add_object(properties=document['properties'])\n",
        "\n",
        "\n",
        "        # Check for failed objects\n",
        "        if collection.batch.failed_objects:\n",
        "            print(\"Failed objects:\")\n",
        "            for failed_obj in collection.batch.failed_objects:\n",
        "                print(failed_obj)\n",
        "\n",
        "        return \"Batch insertion completed successfully.\"\n",
        "\n",
        "    except Exception as e:\n",
        "        print(f\"Error: {e}\")\n",
        "        # Print available methods for debugging\n",
        "        print(\"Available methods: \", dir(collection))\n",
        "        raise\n"
      ],
      "metadata": {
        "id": "A-D8-Y7LkIHA"
      },
      "execution_count": 118,
      "outputs": []
    },
    {
      "cell_type": "code",
      "source": [
        "insert_data_batch(client, 'External_data_coll', data_list)\n"
      ],
      "metadata": {
        "colab": {
          "base_uri": "https://localhost:8080/",
          "height": 36
        },
        "id": "VwR0F7rdje_R",
        "outputId": "c57fe386-2da7-4162-9d5a-0965aeb0ed87"
      },
      "execution_count": 119,
      "outputs": [
        {
          "output_type": "execute_result",
          "data": {
            "text/plain": [
              "'Batch insertion completed successfully.'"
            ],
            "application/vnd.google.colaboratory.intrinsic+json": {
              "type": "string"
            }
          },
          "metadata": {},
          "execution_count": 119
        }
      ]
    },
    {
      "cell_type": "markdown",
      "source": [
        "# Query to get data"
      ],
      "metadata": {
        "id": "Lh7q4Z9WzZ_8"
      }
    },
    {
      "cell_type": "code",
      "source": [
        "def fetch_object_by_id(client, collection_name, object_id):\n",
        "    try:\n",
        "        # Access the collection\n",
        "        collection = client.collections.get(collection_name)\n",
        "\n",
        "        # Fetch the object by ID\n",
        "        data_object = collection.query.fetch_object_by_id(object_id)  # Check if this method is correct\n",
        "\n",
        "        # Check if data_object is not None\n",
        "        if data_object is None:\n",
        "            print(\"No object found with the given ID.\")\n",
        "            return None\n",
        "\n",
        "        # Print properties of the fetched object\n",
        "        print(data_object.properties)\n",
        "        return data_object.properties\n",
        "\n",
        "    except Exception as e:\n",
        "        print(f\"Error: {e}\")\n",
        "        # Print available methods for debugging\n",
        "        print(\"Available methods: \", dir(collection))\n",
        "        raise\n",
        "\n",
        "# Example usage\n",
        "object_id = \"fef0b163-cf11-43b4-8c1f-e6ae84227bb8\"\n",
        "properties = fetch_object_by_id(client, 'External_data_coll', object_id)\n",
        "if properties:\n",
        "    print(properties)\n"
      ],
      "metadata": {
        "colab": {
          "base_uri": "https://localhost:8080/"
        },
        "id": "aMOS5-1youiz",
        "outputId": "a8f12ce1-8d60-4e28-f16e-299677cf4dd0"
      },
      "execution_count": 129,
      "outputs": [
        {
          "output_type": "stream",
          "name": "stdout",
          "text": [
            "No object found with the given ID.\n"
          ]
        }
      ]
    },
    {
      "cell_type": "code",
      "source": [],
      "metadata": {
        "id": "ltA4btwBzd4L"
      },
      "execution_count": null,
      "outputs": []
    }
  ],
  "metadata": {
    "colab": {
      "provenance": []
    },
    "kernelspec": {
      "display_name": "Python 3",
      "name": "python3"
    },
    "language_info": {
      "name": "python"
    }
  },
  "nbformat": 4,
  "nbformat_minor": 0
}