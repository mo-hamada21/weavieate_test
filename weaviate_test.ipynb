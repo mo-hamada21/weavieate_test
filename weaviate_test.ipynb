{
 "cells": [
  {
   "cell_type": "code",
   "execution_count": 1,
   "metadata": {},
   "outputs": [],
   "source": [
    "import weaviate\n",
    "import weaviate.classes.config as wvcc\n",
    "from weaviate.classes.config import Property, DataType, Configure\n",
    "import requests\n",
    "import json"
   ]
  },
  {
   "cell_type": "markdown",
   "metadata": {},
   "source": [
    "# Cloud Connection"
   ]
  },
  {
   "cell_type": "code",
   "execution_count": 10,
   "metadata": {},
   "outputs": [
    {
     "name": "stdout",
     "output_type": "stream",
     "text": [
      "Weaviate client is ready.\n"
     ]
    }
   ],
   "source": [
    "#define a client \n",
    "client = weaviate.connect_to_wcs(\n",
    "    cluster_url=\"https://ep9buqisqh2agxcqhaqja.c0.us-central1.gcp.weaviate.cloud\",\n",
    "    auth_credentials=weaviate.classes.init.Auth.api_key(\"cBbDQMWkOgPEzzQYg2megPVbhrZ28P6mH33k\"),\n",
    ")\n",
    "\n",
    "#checking client status\n",
    "def check_client(client):\n",
    "    try:\n",
    "        # check client is ready or not\n",
    "        response = client.is_ready()\n",
    "        if response:\n",
    "            print(\"Weaviate client is ready.\")\n",
    "        else:\n",
    "            print(\"Weaviate client is not ready.\")\n",
    "    except Exception as e:\n",
    "        print(f\"Error checking Weaviate client status: {e}\")\n",
    "        \n",
    "    \n",
    "check_client(client)"
   ]
  },
  {
   "cell_type": "markdown",
   "metadata": {},
   "source": [
    "# Collection making"
   ]
  },
  {
   "cell_type": "code",
   "execution_count": 25,
   "metadata": {},
   "outputs": [
    {
     "data": {
      "text/plain": [
       "<weaviate.collections.collection.sync.Collection at 0x1f5da1d7f50>"
      ]
     },
     "execution_count": 25,
     "metadata": {},
     "output_type": "execute_result"
    }
   ],
   "source": [
    "# create a basic collection without victorizer\n",
    "\n",
    "client.collections.create(\n",
    "    \"new_test_collection\",\n",
    "    vectorizer_config= Configure.Vectorizer.text2vec_huggingface(model = \"sentence-transformers/all-MiniLM-L6-v2\")\n",
    ")\n",
    "\n",
    "collection = client.collections.get('new_test_collection')\n",
    "collection"
   ]
  },
  {
   "cell_type": "markdown",
   "metadata": {},
   "source": [
    "# Insert data "
   ]
  },
  {
   "cell_type": "code",
   "execution_count": 29,
   "metadata": {},
   "outputs": [],
   "source": [
    "def insert_data(client, url = 'https://raw.githubusercontent.com/weaviate-tutorials/quickstart/main/data/jeopardy_tiny.json'):\n",
    "    # fetch data from the repo\n",
    "    repo = requests.get(url)\n",
    "    data = json.loads(repo.text)\n",
    "    \n",
    "    # prepare our data\n",
    "    question_objs = []\n",
    "    for i, d in enumerate(data):\n",
    "        question_objs.append({\n",
    "            \"answer\" : d['Answer'],\n",
    "            \"question\" : d['Question'],\n",
    "            \"category\" : d['Category']\n",
    "        })\n",
    "        \n",
    "    # insert it and store\n",
    "    questions = client.collections.get(\"new_test_collection\")\n",
    "    questions.data.insert_many(question_objs)\n",
    "    \n",
    "    \n",
    "insert_data(client)"
   ]
  },
  {
   "cell_type": "markdown",
   "metadata": {},
   "source": [
    "# Query to show the data "
   ]
  },
  {
   "cell_type": "code",
   "execution_count": 11,
   "metadata": {},
   "outputs": [
    {
     "name": "stdout",
     "output_type": "stream",
     "text": [
      "{'answer': 'DNA', 'question': 'In 1953 Watson & Crick built a model of the molecular structure of this, the gene-carrying substance', 'category': 'SCIENCE'}\n",
      "{'answer': 'Liver', 'question': 'This organ removes excess glucose from the blood & stores it as glycogen', 'category': 'SCIENCE'}\n"
     ]
    }
   ],
   "source": [
    "def fetch_and_print_data(client):\n",
    "    try:\n",
    "        # Access the collection\n",
    "        collection = client.collections.get(\"new_test_collection\")\n",
    "        \n",
    "        response = collection.query.near_text(\n",
    "            query=\"biology\", \n",
    "            limit=2 \n",
    "        )\n",
    "        \n",
    "        # Print the properties of the returned objects\n",
    "        if response.objects:\n",
    "            for obj in response.objects:\n",
    "                print(obj.properties) \n",
    "        else:\n",
    "            print(\"No results found.\")\n",
    "\n",
    "    finally:\n",
    "        client.close() \n",
    "        \n",
    "fetch_and_print_data(client)"
   ]
  },
  {
   "cell_type": "markdown",
   "metadata": {},
   "source": [
    "# Update objects"
   ]
  },
  {
   "cell_type": "code",
   "execution_count": 33,
   "metadata": {},
   "outputs": [
    {
     "name": "stdout",
     "output_type": "stream",
     "text": [
      "40490e6f-f017-481b-bf28-27c2255a42bd {'answer': 'species', 'question': \"2000 news: the Gunnison sage grouse isn't just another northern sage grouse, but a new one of this classification\", 'category': 'SCIENCE'}\n",
      "4d8ebfba-9f6b-453a-a00d-ef1f2b881540 {'answer': 'Sound barrier', 'question': 'In 70-degree air, a plane traveling at about 1,130 feet per second breaks it', 'category': 'SCIENCE'}\n",
      "6f14b0a3-f96c-4428-9b35-29a241b908f2 {'answer': 'DNA', 'question': 'In 1953 Watson & Crick built a model of the molecular structure of this, the gene-carrying substance', 'category': 'SCIENCE'}\n",
      "a2f7d5a6-cce5-4315-a2b7-86682dc45743 {'answer': 'Elephant', 'question': \"It's the only living mammal in the order Proboseidea\", 'category': 'ANIMALS'}\n",
      "c7ccc1b4-3dc5-4842-9586-8648c5970678 {'answer': 'the diamondback rattler', 'question': 'Heaviest of all poisonous snakes is this North American rattlesnake', 'category': 'ANIMALS'}\n",
      "cc2b1ec9-f26e-4008-bde2-b6c2c97c614c {'answer': 'the nose or snout', 'question': 'The gavial looks very much like a crocodile except for this bodily feature', 'category': 'ANIMALS'}\n",
      "d9c93667-87dc-4a2e-baf2-3d0fdf679382 {'answer': 'Antelope', 'question': 'Weighing around a ton, the eland is the largest species of this animal in Africa', 'category': 'ANIMALS'}\n",
      "dc53e4da-4799-48ed-88fa-ccd7303c1017 {'answer': 'Liver', 'question': 'This organ removes excess glucose from the blood & stores it as glycogen', 'category': 'SCIENCE'}\n",
      "edbc46a7-4afa-480c-af6d-079db1b356e6 {'answer': 'an Atmospher', 'question': 'Changes in the tropospheric layer of this are what gives us weather', 'category': 'SCIENCE'}\n"
     ]
    }
   ],
   "source": [
    "# get data details \n",
    "def get_all_objects(client, collection_name = 'new_test_collection'):\n",
    "    try:\n",
    "        #reconnect the client\n",
    "        client.connect()\n",
    "        \n",
    "        #get the collection\n",
    "        collection = client.collections.get(collection_name)\n",
    "        \n",
    "        #get all objects\n",
    "        for item in collection.iterator():\n",
    "            print(item.uuid, item.properties)\n",
    "            \n",
    "    finally:\n",
    "        client.close()\n",
    "        \n",
    "        \n",
    "get_all_objects(client)"
   ]
  },
  {
   "cell_type": "code",
   "execution_count": 22,
   "metadata": {},
   "outputs": [],
   "source": [
    "#basically update a property\n",
    "client.connect()\n",
    "    \n",
    "#get the collection\n",
    "question = client.collections.get(\"new_test_collection\")\n",
    "    \n",
    "#define the id\n",
    "uuid = 'edbc46a7-4afa-480c-af6d-079db1b356e6'\n",
    "    \n",
    "#update a property\n",
    "question.data.update(\n",
    "    uuid = uuid,\n",
    "    properties={\n",
    "        'answer' : 'species',\n",
    "        'category' : 'ANIMALS'\n",
    "    }\n",
    ")"
   ]
  },
  {
   "cell_type": "code",
   "execution_count": 25,
   "metadata": {},
   "outputs": [
    {
     "name": "stdout",
     "output_type": "stream",
     "text": [
      "Updated properties {'answer': 'an Atmospher', 'category': 'SCIENCE'} for object with UUID edbc46a7-4afa-480c-af6d-079db1b356e6.\n"
     ]
    }
   ],
   "source": [
    "# update the properties\n",
    "def update_property(client, uuid, collection_name = 'new_test_collection', properties_list = None, values_list = None):\n",
    "    \n",
    "    # prepare updating settings\n",
    "    #check for properties and values lists existence\n",
    "    if properties_list is None or values_list is None:\n",
    "        print('you have to provide properties and values lists')\n",
    "    else:\n",
    "        pass\n",
    "    \n",
    "    #check two lists length\n",
    "    if len(properties_list) != len(values_list):\n",
    "        print('the length of two lists must be the same')\n",
    "    else:\n",
    "        pass\n",
    "    \n",
    "    # map roperties_list with values_list\n",
    "    updated_data = dict(zip(properties_list, values_list))\n",
    "    \n",
    "    \n",
    "    #prepare cloent and collection\n",
    "    #reconnect the client\n",
    "    client.connect()\n",
    "    try:\n",
    "        #get the collection\n",
    "        question = client.collections.get(collection_name)\n",
    "        \n",
    "        #update the collection with updated date\n",
    "        collection.data.update(\n",
    "            uuid = uuid,\n",
    "            properties = updated_data\n",
    "        )\n",
    "        \n",
    "        print(f\"Updated properties {updated_data} for object with UUID {uuid}.\")\n",
    "    \n",
    "    except Exception as e:\n",
    "        print(f\"An error occurred: {e}\")\n",
    "    \n",
    "    finally:\n",
    "        client.close()\n",
    "        \n",
    "        \n",
    "update_property(\n",
    "    client,\n",
    "    uuid='edbc46a7-4afa-480c-af6d-079db1b356e6',\n",
    "    collection_name='new_test_collection', \n",
    "    properties_list=['answer', 'category'],\n",
    "    values_list=['an Atmospher', 'SCIENCE']\n",
    ")"
   ]
  },
  {
   "cell_type": "markdown",
   "metadata": {},
   "source": [
    "# Deleting an Object"
   ]
  },
  {
   "cell_type": "code",
   "execution_count": 37,
   "metadata": {},
   "outputs": [],
   "source": [
    "from weaviate.classes.query import Filter\n",
    "\n",
    "def delete_by_property(client, prop_name = None, prop_value = None, collection_name = 'new_test_collection'):\n",
    "    \n",
    "    #check for properties and values lists existence\n",
    "    if prop_name is None or prop_value is None:\n",
    "        print('you have to provide property and value')\n",
    "    else:\n",
    "        pass\n",
    "    \n",
    "    #reconnect the client\n",
    "    client.connect()\n",
    "    \n",
    "    question = client.collections.get(collection_name)\n",
    "    \n",
    "    \n",
    "    try:\n",
    "        question.data.delete_many(\n",
    "            where = Filter.by_property(prop_name).like(prop_value)\n",
    "        )\n",
    "    finally:\n",
    "        client.close()"
   ]
  },
  {
   "cell_type": "code",
   "execution_count": 38,
   "metadata": {},
   "outputs": [],
   "source": [
    "delete_by_property(client, 'answer', 'wire')"
   ]
  },
  {
   "cell_type": "code",
   "execution_count": null,
   "metadata": {},
   "outputs": [],
   "source": []
  },
  {
   "cell_type": "code",
   "execution_count": null,
   "metadata": {},
   "outputs": [],
   "source": []
  }
 ],
 "metadata": {
  "kernelspec": {
   "display_name": "Python 3",
   "language": "python",
   "name": "python3"
  },
  "language_info": {
   "codemirror_mode": {
    "name": "ipython",
    "version": 3
   },
   "file_extension": ".py",
   "mimetype": "text/x-python",
   "name": "python",
   "nbconvert_exporter": "python",
   "pygments_lexer": "ipython3",
   "version": "3.12.5"
  }
 },
 "nbformat": 4,
 "nbformat_minor": 2
}
